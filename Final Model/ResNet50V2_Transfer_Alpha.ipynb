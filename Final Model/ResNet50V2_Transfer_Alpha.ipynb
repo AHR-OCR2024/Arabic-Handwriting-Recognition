{
 "cells": [
  {
   "cell_type": "code",
   "execution_count": 1,
   "metadata": {},
   "outputs": [],
   "source": [
    "import os\n",
    "import cv2\n",
    "import matplotlib.pyplot as plt\n",
    "import numpy as np\n",
    "import tensorflow as tf\n",
    "import Levenshtein\n",
    "import gc\n",
    "from numba import njit\n",
    "from sklearn.model_selection import train_test_split\n",
    "from tensorflow.keras.layers.experimental.preprocessing import StringLookup\n",
    "import datetime\n",
    "from PIL import Image\n",
    "# import cProfile"
   ]
  },
  {
   "cell_type": "code",
   "execution_count": 2,
   "metadata": {},
   "outputs": [
    {
     "name": "stdout",
     "output_type": "stream",
     "text": [
      "50145\n"
     ]
    }
   ],
   "source": [
    "#load images from Total Images folder\n",
    "def load_images_from_folder(folder):\n",
    "    images = []\n",
    "    for filename in os.listdir(folder):\n",
    "        img = cv2.imread(os.path.join(folder,filename))\n",
    "        if img is not None:\n",
    "            images.append(img)\n",
    "    return images\n",
    "\n",
    "images = load_images_from_folder(r'New Total Images')\n",
    "\n",
    "print(len(images))"
   ]
  },
  {
   "cell_type": "code",
   "execution_count": 3,
   "metadata": {},
   "outputs": [],
   "source": [
    "# resize images to 32x32\n",
    "resized_images = []\n",
    "for img in images:\n",
    "    img = cv2.resize(img, (64, 64))\n",
    "    resized_images.append(img)"
   ]
  },
  {
   "cell_type": "code",
   "execution_count": 4,
   "metadata": {},
   "outputs": [],
   "source": [
    "#load labels from Total GT folder\n",
    "def load_labels_from_folder(folder):\n",
    "    labels = []\n",
    "    for filename in os.listdir(folder):\n",
    "        #read inside txt files\n",
    "        with open(os.path.join(folder,filename), 'r', encoding='utf-8') as f:\n",
    "            label = f.read()\n",
    "        labels.append(label)\n",
    "    return labels\n",
    "\n",
    "labels = load_labels_from_folder(r'New Total GT')"
   ]
  },
  {
   "cell_type": "markdown",
   "metadata": {},
   "source": [
    "## DEALING WITH LABELS"
   ]
  },
  {
   "cell_type": "code",
   "execution_count": 5,
   "metadata": {},
   "outputs": [],
   "source": [
    "def clean_labels(labels):\n",
    "    cleaned_labels = []\n",
    "    for label in labels:\n",
    "        label = label.split(\" \")[-1].strip()\n",
    "        cleaned_labels.append(label)\n",
    "    return cleaned_labels\n",
    "\n",
    "labels_cleaned = clean_labels(labels)"
   ]
  },
  {
   "cell_type": "code",
   "execution_count": 6,
   "metadata": {},
   "outputs": [],
   "source": [
    "# select only the images with labels cleaned\n",
    "resized_images = [img for img, label in zip(resized_images, labels_cleaned) if label]\n",
    "labels = [label for label in labels_cleaned if label]"
   ]
  },
  {
   "cell_type": "code",
   "execution_count": 7,
   "metadata": {},
   "outputs": [],
   "source": [
    "# max_len = 0\n",
    "# characters = set()\n",
    "# for label in labels:\n",
    "#     label = label.split(\" \")[-1].strip()\n",
    "#     for char in label:\n",
    "#         characters.add(char)\n",
    "\n",
    "#     max_len = max(max_len, len(label))\n",
    "\n",
    "# print(\"Maximum length: \", max_len)\n",
    "# print(\"Vocab size: \", len(characters))"
   ]
  },
  {
   "cell_type": "code",
   "execution_count": 8,
   "metadata": {},
   "outputs": [],
   "source": [
    "AUTOTUNE = tf.data.AUTOTUNE\n",
    "\n",
    "characters = {'ء','آ','أ','ؤ','إ','ئ','ا','ب','ة','ت','ث','ج','ح','خ','د','ذ','ر','ز','س','ش','ص','ض','ط','ظ','ع','غ','ف','ق','ك','ل','م','ن','ه','و','ى','ي'}\n",
    "max_len = 7\n",
    "# Mapping characters to integers.\n",
    "char_to_num = StringLookup(vocabulary=sorted(list(characters)), mask_token=None)\n",
    "\n",
    "# Mapping integers back to original characters.\n",
    "num_to_char = StringLookup(\n",
    "    vocabulary=char_to_num.get_vocabulary(), mask_token=None, invert=True\n",
    ")"
   ]
  },
  {
   "cell_type": "code",
   "execution_count": 9,
   "metadata": {},
   "outputs": [
    {
     "name": "stdout",
     "output_type": "stream",
     "text": [
      "36\n"
     ]
    }
   ],
   "source": [
    "print(len(characters))"
   ]
  },
  {
   "cell_type": "code",
   "execution_count": 10,
   "metadata": {},
   "outputs": [
    {
     "data": {
      "text/plain": [
       "{'ء',\n",
       " 'آ',\n",
       " 'أ',\n",
       " 'ؤ',\n",
       " 'إ',\n",
       " 'ئ',\n",
       " 'ا',\n",
       " 'ب',\n",
       " 'ة',\n",
       " 'ت',\n",
       " 'ث',\n",
       " 'ج',\n",
       " 'ح',\n",
       " 'خ',\n",
       " 'د',\n",
       " 'ذ',\n",
       " 'ر',\n",
       " 'ز',\n",
       " 'س',\n",
       " 'ش',\n",
       " 'ص',\n",
       " 'ض',\n",
       " 'ط',\n",
       " 'ظ',\n",
       " 'ع',\n",
       " 'غ',\n",
       " 'ف',\n",
       " 'ق',\n",
       " 'ك',\n",
       " 'ل',\n",
       " 'م',\n",
       " 'ن',\n",
       " 'ه',\n",
       " 'و',\n",
       " 'ى',\n",
       " 'ي'}"
      ]
     },
     "execution_count": 10,
     "metadata": {},
     "output_type": "execute_result"
    }
   ],
   "source": [
    "characters"
   ]
  },
  {
   "cell_type": "code",
   "execution_count": 11,
   "metadata": {},
   "outputs": [],
   "source": [
    "# AUTOTUNE = tf.data.AUTOTUNE\n",
    "\n",
    "# # Mapping characters to integers.\n",
    "# char_to_num = StringLookup(vocabulary=sorted(list(characters)), mask_token=None)\n",
    "\n",
    "# # Mapping integers back to original characters.\n",
    "# num_to_char = StringLookup(\n",
    "#     vocabulary=char_to_num.get_vocabulary(), mask_token=None, invert=True\n",
    "# )"
   ]
  },
  {
   "cell_type": "code",
   "execution_count": 12,
   "metadata": {},
   "outputs": [],
   "source": [
    "padding_token = 99"
   ]
  },
  {
   "cell_type": "code",
   "execution_count": 13,
   "metadata": {},
   "outputs": [],
   "source": [
    "# Faster Vectorization (40s --> 0.8s)\n",
    "def vectorize_label(label):\n",
    "    # print(label)\n",
    "    label = char_to_num(tf.strings.unicode_split(label, input_encoding=\"UTF-8\"))\n",
    "    length = tf.shape(label)[0]\n",
    "    pad_amount = max_len - length\n",
    "    label = tf.pad(label, paddings=[[0, pad_amount]], constant_values=padding_token)\n",
    "    return label\n",
    "\n",
    "labels_v = tf.data.Dataset.from_tensor_slices(labels) # Convert labels to a dataset\n",
    "labels_v = labels_v.map(vectorize_label, num_parallel_calls=tf.data.AUTOTUNE) # Vectorize labels\n",
    "labels_v = list(labels_v.as_numpy_iterator()) # Convert labels back to a list\n"
   ]
  },
  {
   "cell_type": "code",
   "execution_count": 14,
   "metadata": {},
   "outputs": [],
   "source": [
    "# Faster Devectorization (10s --> 0.3s)\n",
    "@njit(cache=True)\n",
    "def devectorize_label(label, vocabulary, padding_token):\n",
    "    # Remove padding tokens\n",
    "    label = label[label != padding_token]\n",
    "    \n",
    "    # Convert label indices back to characters\n",
    "    characters = [vocabulary[idx] for idx in label]\n",
    "    \n",
    "    # Concatenate characters to form the original text\n",
    "    original_text = ''.join(characters)\n",
    "    \n",
    "    return original_text"
   ]
  },
  {
   "cell_type": "code",
   "execution_count": 15,
   "metadata": {},
   "outputs": [],
   "source": [
    "vocab_num = np.array(char_to_num.get_vocabulary())"
   ]
  },
  {
   "cell_type": "code",
   "execution_count": 16,
   "metadata": {},
   "outputs": [
    {
     "data": {
      "text/plain": [
       "array(['[UNK]', 'ء', 'آ', 'أ', 'ؤ', 'إ', 'ئ', 'ا', 'ب', 'ة', 'ت', 'ث',\n",
       "       'ج', 'ح', 'خ', 'د', 'ذ', 'ر', 'ز', 'س', 'ش', 'ص', 'ض', 'ط', 'ظ',\n",
       "       'ع', 'غ', 'ف', 'ق', 'ك', 'ل', 'م', 'ن', 'ه', 'و', 'ى', 'ي'],\n",
       "      dtype='<U5')"
      ]
     },
     "execution_count": 16,
     "metadata": {},
     "output_type": "execute_result"
    }
   ],
   "source": [
    "vocab_num"
   ]
  },
  {
   "cell_type": "code",
   "execution_count": 17,
   "metadata": {},
   "outputs": [
    {
     "data": {
      "text/plain": [
       "99"
      ]
     },
     "execution_count": 17,
     "metadata": {},
     "output_type": "execute_result"
    }
   ],
   "source": [
    "padding_token"
   ]
  },
  {
   "cell_type": "code",
   "execution_count": 18,
   "metadata": {},
   "outputs": [],
   "source": [
    "labels_de_v = [devectorize_label(label, vocab_num, padding_token) for label in labels_v]"
   ]
  },
  {
   "cell_type": "markdown",
   "metadata": {},
   "source": [
    "## END"
   ]
  },
  {
   "cell_type": "code",
   "execution_count": 19,
   "metadata": {},
   "outputs": [
    {
     "data": {
      "image/png": "[encoded data removed]",
      "text/plain": [
       "<Figure size 640x480 with 10 Axes>"
      ]
     },
     "metadata": {},
     "output_type": "display_data"
    }
   ],
   "source": [
    "#show first 10 images using plt with their repective decoded labels\n",
    "for i in range(10):\n",
    "    plt.subplot(2, 5, i+1)\n",
    "    plt.imshow(resized_images[i], cmap='gray')\n",
    "    plt.title(labels_de_v[i])\n",
    "    plt.axis('off')\n",
    "plt.show()"
   ]
  },
  {
   "cell_type": "code",
   "execution_count": 20,
   "metadata": {},
   "outputs": [
    {
     "name": "stdout",
     "output_type": "stream",
     "text": [
      "length of labels:  50145\n",
      "length of images 50145\n"
     ]
    }
   ],
   "source": [
    "print(\"length of labels: \",len(labels_de_v))\n",
    "print(\"length of images\",len(resized_images))\n",
    "# if not equal, error\n",
    "assert len(labels_de_v) == len(resized_images), \"The number of labels does not match the number of images, check the loading process\""
   ]
  },
  {
   "cell_type": "code",
   "execution_count": 21,
   "metadata": {},
   "outputs": [
    {
     "data": {
      "text/plain": [
       "(50145, 64, 64, 3)"
      ]
     },
     "execution_count": 21,
     "metadata": {},
     "output_type": "execute_result"
    }
   ],
   "source": [
    "# reshape data\n",
    "resized_images = np.array(resized_images)\n",
    "resized_images.shape"
   ]
  },
  {
   "cell_type": "markdown",
   "metadata": {},
   "source": [
    "### Split"
   ]
  },
  {
   "cell_type": "code",
   "execution_count": 22,
   "metadata": {},
   "outputs": [],
   "source": [
    "# Normalize data\n",
    "resized_images = resized_images / 255.0"
   ]
  },
  {
   "cell_type": "code",
   "execution_count": 23,
   "metadata": {},
   "outputs": [],
   "source": [
    "#create a train test split of 80:20\n",
    "X_train, X_test, y_train, y_test = train_test_split(resized_images, labels_v, test_size=0.2, random_state=42, stratify=labels_v)\n",
    "X_val, X_test, y_val, y_test = train_test_split(X_test, y_test, test_size=0.5, random_state=42, stratify=y_test)"
   ]
  },
  {
   "cell_type": "code",
   "execution_count": 24,
   "metadata": {},
   "outputs": [],
   "source": [
    "y_train = np.array(y_train)\n",
    "y_test = np.array(y_test)"
   ]
  },
  {
   "cell_type": "markdown",
   "metadata": {},
   "source": [
    "## LOSS"
   ]
  },
  {
   "cell_type": "code",
   "execution_count": 25,
   "metadata": {},
   "outputs": [],
   "source": [
    "import keras\n",
    "class CTCLayer(keras.layers.Layer):\n",
    "    def __init__(self, name=None, **kwargs):\n",
    "        super().__init__(name=name, **kwargs)\n",
    "        self.loss_fn = keras.backend.ctc_batch_cost\n",
    "\n",
    "    def call(self, y_true, y_pred):\n",
    "        batch_len = tf.cast(tf.shape(y_true)[0], dtype=\"int64\")\n",
    "        input_length = tf.cast(tf.shape(y_pred)[1], dtype=\"int64\")\n",
    "        label_length = tf.cast(tf.shape(y_true)[1], dtype=\"int64\")\n",
    "\n",
    "        input_length = input_length * tf.ones(shape=(batch_len, 1), dtype=\"int64\")\n",
    "        label_length = label_length * tf.ones(shape=(batch_len, 1), dtype=\"int64\")\n",
    "        loss = self.loss_fn(y_true, y_pred, input_length, label_length)\n",
    "        self.add_loss(loss)\n",
    "\n",
    "        # At test time, just return the computed predictions.\n",
    "        return y_pred\n",
    "\n",
    "    def get_config(self):\n",
    "        config = super().get_config()\n",
    "        return config\n",
    "\n",
    "    @classmethod\n",
    "    def from_config(cls, config):\n",
    "        return cls(**config)"
   ]
  },
  {
   "cell_type": "code",
   "execution_count": 26,
   "metadata": {},
   "outputs": [],
   "source": [
    "\n",
    "def decode_batch_predictions(pred):\n",
    "    input_len = np.ones(pred.shape[0]) * pred.shape[1]\n",
    "    # Use greedy search. For complex tasks, you can use beam search.\n",
    "    results = keras.backend.ctc_decode(pred, input_length=input_len, greedy=True)[0][0][\n",
    "        :, :max_len\n",
    "    ]\n",
    "    # Iterate over the results and get back the text.\n",
    "    output_text = []\n",
    "    for res in results:\n",
    "        res = tf.gather(res, tf.where(tf.math.not_equal(res, -1)))\n",
    "        res = tf.strings.reduce_join(num_to_char(res)).numpy().decode(\"utf-8\")\n",
    "        output_text.append(res)\n",
    "    return output_text"
   ]
  },
  {
   "cell_type": "code",
   "execution_count": 27,
   "metadata": {},
   "outputs": [],
   "source": [
    "from tensorflow.keras.callbacks import Callback\n",
    "# Custom callback for calculating CER after each epoch\n",
    "class CalculateCER(Callback):\n",
    "    def __init__(self, validation_images, validation_labels):\n",
    "        super(CalculateCER, self).__init__()\n",
    "        self.validation_images = validation_images\n",
    "        self.validation_labels = validation_labels\n",
    "        self.cer_history = []\n",
    "\n",
    "    def on_epoch_end(self, epoch, logs=None):\n",
    "        y_true = self.validation_labels  # True labels\n",
    "        y_pred = self.model.predict([self.validation_images, np.zeros_like(self.validation_labels)])  # Predicted labels\n",
    "        y_true_text = [devectorize_label(label,vocab_num, padding_token) for label in y_true]\n",
    "        y_pred_text = decode_batch_predictions(y_pred)\n",
    "        # print(f'Predicted text: {y_pred_text}')\n",
    "        # print(f'True text: {y_true_text}')\n",
    "        cer = self.calculate_cer(y_true_text, y_pred_text)\n",
    "        self.cer_history.append(cer)\n",
    "        print(f'\\nCharacter Error Rate (CER) after epoch {epoch + 1}: {cer}')\n",
    "\n",
    "    def calculate_cer(self, y_true, y_pred):\n",
    "        total_distance = 0\n",
    "        total_true_char = 0\n",
    "        for true_seq, pred_seq in zip(y_true, y_pred):\n",
    "            true_seq = true_seq.rstrip('\\n')\n",
    "            pred_seq = pred_seq.rstrip('\\n')\n",
    "            total_distance += Levenshtein.distance(true_seq, pred_seq)\n",
    "            total_true_char += len(true_seq)\n",
    "        cer = total_distance / total_true_char\n",
    "        return cer\n"
   ]
  },
  {
   "cell_type": "code",
   "execution_count": 28,
   "metadata": {},
   "outputs": [
    {
     "data": {
      "text/plain": [
       "22368"
      ]
     },
     "execution_count": 28,
     "metadata": {},
     "output_type": "execute_result"
    }
   ],
   "source": [
    "# remove not needed images variable from memory and garbage collect\n",
    "del images\n",
    "gc.collect()"
   ]
  },
  {
   "cell_type": "markdown",
   "metadata": {},
   "source": [
    "## Pre-Trained ResNet50V2 Alphabetical"
   ]
  },
  {
   "cell_type": "code",
   "execution_count": 29,
   "metadata": {},
   "outputs": [],
   "source": [
    "#load model\n",
    "model = keras.models.load_model(\"Alphabet_Res50V2AdCos_with_CTC.h5\", custom_objects={\"CTCLayer\": CTCLayer})\n",
    "model.compile(optimizer=keras.optimizers.Adam(learning_rate=0.001, beta_1=0.9, beta_2=0.999, epsilon=1e-07))"
   ]
  },
  {
   "cell_type": "code",
   "execution_count": 30,
   "metadata": {},
   "outputs": [],
   "source": [
    "# # learning rate scheduler\n",
    "# from tensorflow.keras.callbacks import ReduceLROnPlateau\n",
    "# lr_scheduler = ReduceLROnPlateau(monitor='val_loss', factor=0.2, patience=5, min_lr=0.00001)\n",
    "\n",
    "cer = CalculateCER(X_test, y_test)"
   ]
  },
  {
   "cell_type": "code",
   "execution_count": 31,
   "metadata": {},
   "outputs": [],
   "source": [
    "# Define the learning rate scheduler\n",
    "total_epochs = 70\n",
    "def cosine_decay(epoch, lr):\n",
    "    max_lr = 0.001  # Maximum learning rate\n",
    "    min_lr = 0.00001  # Minimum learning rate\n",
    "    step_size = total_epochs // 2  # Number of epochs for half of the cosine cycle\n",
    "    decayed_lr = min_lr + 0.5 * (max_lr - min_lr) * (1 + tf.math.cos((epoch % step_size) / step_size * 3.1415))\n",
    "    return decayed_lr\n",
    "\n",
    "lr_scheduler = keras.callbacks.LearningRateScheduler(cosine_decay)"
   ]
  },
  {
   "cell_type": "code",
   "execution_count": 32,
   "metadata": {},
   "outputs": [
    {
     "name": "stdout",
     "output_type": "stream",
     "text": [
      "INFO:tensorflow:Mixed precision compatibility check (mixed_float16): OK\n",
      "Your GPU will likely run quickly with dtype policy mixed_float16 as it has compute capability of at least 7.0. Your GPU: NVIDIA GeForce RTX 3060, compute capability 8.6\n"
     ]
    }
   ],
   "source": [
    "from tensorflow.keras import mixed_precision\n",
    "policy = mixed_precision.Policy('mixed_float16')\n",
    "mixed_precision.set_global_policy(policy)\n",
    "\n",
    "# set Random seed\n",
    "tf.random.set_seed(42)"
   ]
  },
  {
   "cell_type": "code",
   "execution_count": 33,
   "metadata": {},
   "outputs": [
    {
     "name": "stdout",
     "output_type": "stream",
     "text": [
      "Epoch 1/70\n",
      "157/157 [==============================] - 4s 18ms/step\n",
      "\n",
      "Character Error Rate (CER) after epoch 1: 0.32593911917098445\n",
      "314/314 [==============================] - 78s 217ms/step - loss: 7.8620 - val_loss: 2.9061 - lr: 1.0000e-03\n",
      "Epoch 2/70\n",
      "157/157 [==============================] - 3s 17ms/step\n",
      "\n",
      "Character Error Rate (CER) after epoch 2: 0.16215997409326424\n",
      "314/314 [==============================] - 65s 206ms/step - loss: 1.9686 - val_loss: 1.3858 - lr: 9.9801e-04\n",
      "Epoch 3/70\n",
      "157/157 [==============================] - 3s 20ms/step\n",
      "\n",
      "Character Error Rate (CER) after epoch 3: 0.11188471502590673\n",
      "314/314 [==============================] - 65s 205ms/step - loss: 0.9989 - val_loss: 0.9503 - lr: 9.9205e-04\n",
      "Epoch 4/70\n",
      "157/157 [==============================] - 3s 20ms/step\n",
      "\n",
      "Character Error Rate (CER) after epoch 4: 0.08516839378238342\n",
      "314/314 [==============================] - 65s 206ms/step - loss: 0.6236 - val_loss: 0.7148 - lr: 9.8216e-04\n",
      "Epoch 5/70\n",
      "157/157 [==============================] - 3s 20ms/step\n",
      "\n",
      "Character Error Rate (CER) after epoch 5: 0.07456282383419689\n",
      "314/314 [==============================] - 65s 208ms/step - loss: 0.4426 - val_loss: 0.6371 - lr: 9.6844e-04\n",
      "Epoch 6/70\n",
      "157/157 [==============================] - 3s 20ms/step\n",
      "\n",
      "Character Error Rate (CER) after epoch 6: 0.0743199481865285\n",
      "314/314 [==============================] - 63s 201ms/step - loss: 0.3633 - val_loss: 0.6465 - lr: 9.5098e-04\n",
      "Epoch 7/70\n",
      "157/157 [==============================] - 3s 20ms/step\n",
      "\n",
      "Character Error Rate (CER) after epoch 7: 0.06986722797927461\n",
      "314/314 [==============================] - 64s 202ms/step - loss: 0.2707 - val_loss: 0.6547 - lr: 9.2994e-04\n",
      "Epoch 8/70\n",
      "157/157 [==============================] - 3s 19ms/step\n",
      "\n",
      "Character Error Rate (CER) after epoch 8: 0.06330958549222798\n",
      "314/314 [==============================] - 63s 201ms/step - loss: 0.2306 - val_loss: 0.5743 - lr: 9.0547e-04\n",
      "Epoch 9/70\n",
      "157/157 [==============================] - 3s 20ms/step\n",
      "\n",
      "Character Error Rate (CER) after epoch 9: 0.06063795336787565\n",
      "314/314 [==============================] - 64s 202ms/step - loss: 0.2135 - val_loss: 0.5504 - lr: 8.7778e-04\n",
      "Epoch 10/70\n",
      "157/157 [==============================] - 3s 17ms/step\n",
      "\n",
      "Character Error Rate (CER) after epoch 10: 0.05043717616580311\n",
      "314/314 [==============================] - 64s 203ms/step - loss: 0.1645 - val_loss: 0.5138 - lr: 8.4708e-04\n",
      "Epoch 11/70\n",
      "157/157 [==============================] - 3s 17ms/step\n",
      "\n",
      "Character Error Rate (CER) after epoch 11: 0.0665479274611399\n",
      "314/314 [==============================] - 68s 216ms/step - loss: 0.1387 - val_loss: 0.6627 - lr: 8.1364e-04\n",
      "Epoch 12/70\n",
      "157/157 [==============================] - 3s 17ms/step\n",
      "\n",
      "Character Error Rate (CER) after epoch 12: 0.04930375647668394\n",
      "314/314 [==============================] - 64s 204ms/step - loss: 0.1212 - val_loss: 0.5161 - lr: 7.7771e-04\n",
      "Epoch 13/70\n",
      "157/157 [==============================] - 3s 17ms/step\n",
      "\n",
      "Character Error Rate (CER) after epoch 13: 0.04485103626943005\n",
      "314/314 [==============================] - 64s 204ms/step - loss: 0.0952 - val_loss: 0.4899 - lr: 7.3958e-04\n",
      "Epoch 14/70\n",
      "157/157 [==============================] - 3s 17ms/step\n",
      "\n",
      "Character Error Rate (CER) after epoch 14: 0.04452720207253886\n",
      "314/314 [==============================] - 64s 203ms/step - loss: 0.0763 - val_loss: 0.4610 - lr: 6.9956e-04\n",
      "Epoch 15/70\n",
      "157/157 [==============================] - 3s 18ms/step\n",
      "\n",
      "Character Error Rate (CER) after epoch 15: 0.0430699481865285\n",
      "314/314 [==============================] - 64s 204ms/step - loss: 0.0653 - val_loss: 0.4523 - lr: 6.5798e-04\n",
      "Epoch 16/70\n",
      "157/157 [==============================] - 3s 17ms/step\n",
      "\n",
      "Character Error Rate (CER) after epoch 16: 0.046227331606217614\n",
      "314/314 [==============================] - 64s 203ms/step - loss: 0.0702 - val_loss: 0.5016 - lr: 6.1517e-04\n",
      "Epoch 17/70\n",
      "157/157 [==============================] - 3s 17ms/step\n",
      "\n",
      "Character Error Rate (CER) after epoch 17: 0.047117875647668395\n",
      "314/314 [==============================] - 64s 202ms/step - loss: 0.0531 - val_loss: 0.5298 - lr: 5.7147e-04\n",
      "Epoch 18/70\n",
      "157/157 [==============================] - 3s 17ms/step\n",
      "\n",
      "Character Error Rate (CER) after epoch 18: 0.04574158031088083\n",
      "314/314 [==============================] - 64s 202ms/step - loss: 0.0743 - val_loss: 0.5289 - lr: 5.2723e-04\n",
      "Epoch 19/70\n",
      "157/157 [==============================] - 3s 17ms/step\n",
      "\n",
      "Character Error Rate (CER) after epoch 19: 0.04088406735751295\n",
      "314/314 [==============================] - 64s 202ms/step - loss: 0.0412 - val_loss: 0.4337 - lr: 4.8282e-04\n",
      "Epoch 20/70\n",
      "157/157 [==============================] - 3s 17ms/step\n",
      "\n",
      "Character Error Rate (CER) after epoch 20: 0.038860103626943004\n",
      "314/314 [==============================] - 64s 202ms/step - loss: 0.0273 - val_loss: 0.4109 - lr: 4.3858e-04\n",
      "Epoch 21/70\n",
      "157/157 [==============================] - 3s 18ms/step\n",
      "\n",
      "Character Error Rate (CER) after epoch 21: 0.035783678756476686\n",
      "314/314 [==============================] - 65s 205ms/step - loss: 0.0209 - val_loss: 0.4308 - lr: 3.9488e-04\n",
      "Epoch 22/70\n",
      "157/157 [==============================] - 3s 17ms/step\n",
      "\n",
      "Character Error Rate (CER) after epoch 22: 0.03367875647668394\n",
      "314/314 [==============================] - 64s 202ms/step - loss: 0.0162 - val_loss: 0.4149 - lr: 3.5206e-04\n",
      "Epoch 23/70\n",
      "157/157 [==============================] - 3s 17ms/step\n",
      "\n",
      "Character Error Rate (CER) after epoch 23: 0.035864637305699484\n",
      "314/314 [==============================] - 63s 201ms/step - loss: 0.0154 - val_loss: 0.4296 - lr: 3.1048e-04\n",
      "Epoch 24/70\n",
      "157/157 [==============================] - 3s 17ms/step\n",
      "\n",
      "Character Error Rate (CER) after epoch 24: 0.034407383419689117\n",
      "314/314 [==============================] - 63s 201ms/step - loss: 0.0117 - val_loss: 0.4153 - lr: 2.7046e-04\n",
      "Epoch 25/70\n",
      "157/157 [==============================] - 3s 17ms/step\n",
      "\n",
      "Character Error Rate (CER) after epoch 25: 0.03424546632124352\n",
      "314/314 [==============================] - 64s 202ms/step - loss: 0.0100 - val_loss: 0.4348 - lr: 2.3233e-04\n",
      "Epoch 26/70\n",
      "157/157 [==============================] - 3s 17ms/step\n",
      "\n",
      "Character Error Rate (CER) after epoch 26: 0.033921632124352334\n",
      "314/314 [==============================] - 63s 201ms/step - loss: 0.0088 - val_loss: 0.4240 - lr: 1.9640e-04\n",
      "Epoch 27/70\n",
      "157/157 [==============================] - 3s 17ms/step\n",
      "\n",
      "Character Error Rate (CER) after epoch 27: 0.03238341968911917\n",
      "314/314 [==============================] - 63s 201ms/step - loss: 0.0079 - val_loss: 0.4347 - lr: 1.6295e-04\n",
      "Epoch 28/70\n",
      "157/157 [==============================] - 3s 17ms/step\n",
      "\n",
      "Character Error Rate (CER) after epoch 28: 0.03359779792746114\n",
      "314/314 [==============================] - 64s 202ms/step - loss: 0.0066 - val_loss: 0.4216 - lr: 1.3225e-04\n",
      "Epoch 29/70\n",
      "157/157 [==============================] - 3s 17ms/step\n",
      "\n",
      "Character Error Rate (CER) after epoch 29: 0.03205958549222798\n",
      "314/314 [==============================] - 63s 201ms/step - loss: 0.0050 - val_loss: 0.4309 - lr: 1.0456e-04\n",
      "Epoch 30/70\n",
      "157/157 [==============================] - 3s 17ms/step\n",
      "\n",
      "Character Error Rate (CER) after epoch 30: 0.03278821243523316\n",
      "314/314 [==============================] - 63s 201ms/step - loss: 0.0039 - val_loss: 0.4279 - lr: 8.0087e-05\n",
      "Epoch 31/70\n",
      "157/157 [==============================] - 3s 17ms/step\n",
      "\n",
      "Character Error Rate (CER) after epoch 31: 0.03238341968911917\n",
      "314/314 [==============================] - 64s 202ms/step - loss: 0.0035 - val_loss: 0.4299 - lr: 5.9037e-05\n",
      "Epoch 32/70\n",
      "157/157 [==============================] - 3s 17ms/step\n",
      "\n",
      "Character Error Rate (CER) after epoch 32: 0.03125\n",
      "314/314 [==============================] - 63s 201ms/step - loss: 0.0032 - val_loss: 0.4241 - lr: 4.1578e-05\n",
      "Epoch 33/70\n",
      "157/157 [==============================] - 3s 17ms/step\n",
      "\n",
      "Character Error Rate (CER) after epoch 33: 0.031492875647668395\n",
      "314/314 [==============================] - 64s 202ms/step - loss: 0.0025 - val_loss: 0.4310 - lr: 2.7850e-05\n",
      "Epoch 34/70\n",
      "157/157 [==============================] - 3s 17ms/step\n",
      "\n",
      "Character Error Rate (CER) after epoch 34: 0.03157383419689119\n",
      "314/314 [==============================] - 63s 201ms/step - loss: 0.0023 - val_loss: 0.4322 - lr: 1.7963e-05\n",
      "Epoch 35/70\n",
      "157/157 [==============================] - 3s 17ms/step\n",
      "\n",
      "Character Error Rate (CER) after epoch 35: 0.031088082901554404\n",
      "314/314 [==============================] - 63s 201ms/step - loss: 0.0022 - val_loss: 0.4321 - lr: 1.1997e-05\n",
      "Epoch 36/70\n",
      "157/157 [==============================] - 3s 17ms/step\n",
      "\n",
      "Character Error Rate (CER) after epoch 36: 0.07610103626943006\n",
      "314/314 [==============================] - 63s 201ms/step - loss: 0.6698 - val_loss: 0.7245 - lr: 1.0000e-03\n",
      "Epoch 37/70\n",
      "157/157 [==============================] - 3s 17ms/step\n",
      "\n",
      "Character Error Rate (CER) after epoch 37: 0.051489637305699484\n",
      "314/314 [==============================] - 63s 201ms/step - loss: 0.2126 - val_loss: 0.4829 - lr: 9.9801e-04\n",
      "Epoch 38/70\n",
      "157/157 [==============================] - 3s 17ms/step\n",
      "\n",
      "Character Error Rate (CER) after epoch 38: 0.04339378238341969\n",
      "314/314 [==============================] - 63s 201ms/step - loss: 0.1168 - val_loss: 0.4292 - lr: 9.9205e-04\n",
      "Epoch 39/70\n",
      "157/157 [==============================] - 3s 18ms/step\n",
      "\n",
      "Character Error Rate (CER) after epoch 39: 0.04744170984455959\n",
      "314/314 [==============================] - 65s 207ms/step - loss: 0.0727 - val_loss: 0.5024 - lr: 9.8216e-04\n",
      "Epoch 40/70\n",
      "157/157 [==============================] - 3s 17ms/step\n",
      "\n",
      "Character Error Rate (CER) after epoch 40: 0.050113341968911915\n",
      "314/314 [==============================] - 64s 203ms/step - loss: 0.0972 - val_loss: 0.5340 - lr: 9.6844e-04\n",
      "Epoch 41/70\n",
      "157/157 [==============================] - 3s 17ms/step\n",
      "\n",
      "Character Error Rate (CER) after epoch 41: 0.04023639896373057\n",
      "314/314 [==============================] - 64s 202ms/step - loss: 0.0753 - val_loss: 0.4383 - lr: 9.5098e-04\n",
      "Epoch 42/70\n",
      "157/157 [==============================] - 3s 17ms/step\n",
      "\n",
      "Character Error Rate (CER) after epoch 42: 0.04258419689119171\n",
      "314/314 [==============================] - 64s 202ms/step - loss: 0.0618 - val_loss: 0.4456 - lr: 9.2994e-04\n",
      "Epoch 43/70\n",
      "157/157 [==============================] - 3s 18ms/step\n",
      "\n",
      "Character Error Rate (CER) after epoch 43: 0.04938471502590674\n",
      "314/314 [==============================] - 64s 202ms/step - loss: 0.0904 - val_loss: 0.5489 - lr: 9.0547e-04\n",
      "Epoch 44/70\n",
      "157/157 [==============================] - 3s 17ms/step\n",
      "\n",
      "Character Error Rate (CER) after epoch 44: 0.04995142487046632\n",
      "314/314 [==============================] - 64s 203ms/step - loss: 0.0568 - val_loss: 0.5720 - lr: 8.7778e-04\n",
      "Epoch 45/70\n",
      "157/157 [==============================] - 3s 17ms/step\n",
      "\n",
      "Character Error Rate (CER) after epoch 45: 0.03756476683937824\n",
      "314/314 [==============================] - 64s 202ms/step - loss: 0.0427 - val_loss: 0.4433 - lr: 8.4708e-04\n",
      "Epoch 46/70\n",
      "157/157 [==============================] - 3s 18ms/step\n",
      "\n",
      "Character Error Rate (CER) after epoch 46: 0.052461139896373056\n",
      "314/314 [==============================] - 64s 203ms/step - loss: 0.0601 - val_loss: 0.6460 - lr: 8.1364e-04\n",
      "Epoch 47/70\n",
      "157/157 [==============================] - 3s 17ms/step\n",
      "\n",
      "Character Error Rate (CER) after epoch 47: 0.03481217616580311\n",
      "314/314 [==============================] - 64s 202ms/step - loss: 0.0352 - val_loss: 0.3963 - lr: 7.7771e-04\n",
      "Epoch 48/70\n",
      "157/157 [==============================] - 3s 17ms/step\n",
      "\n",
      "Character Error Rate (CER) after epoch 48: 0.031088082901554404\n",
      "314/314 [==============================] - 64s 202ms/step - loss: 0.0208 - val_loss: 0.3607 - lr: 7.3958e-04\n",
      "Epoch 49/70\n",
      "157/157 [==============================] - 3s 17ms/step\n",
      "\n",
      "Character Error Rate (CER) after epoch 49: 0.03400259067357513\n",
      "314/314 [==============================] - 64s 202ms/step - loss: 0.0220 - val_loss: 0.4331 - lr: 6.9956e-04\n",
      "Epoch 50/70\n",
      "157/157 [==============================] - 3s 18ms/step\n",
      "\n",
      "Character Error Rate (CER) after epoch 50: 0.03408354922279793\n",
      "314/314 [==============================] - 64s 202ms/step - loss: 0.0238 - val_loss: 0.4030 - lr: 6.5798e-04\n",
      "Epoch 51/70\n",
      "157/157 [==============================] - 3s 20ms/step\n",
      "\n",
      "Character Error Rate (CER) after epoch 51: 0.041693652849740935\n",
      "314/314 [==============================] - 64s 203ms/step - loss: 0.0306 - val_loss: 0.5233 - lr: 6.1517e-04\n",
      "Epoch 52/70\n",
      "157/157 [==============================] - 3s 20ms/step\n",
      "\n",
      "Character Error Rate (CER) after epoch 52: 0.03869818652849741\n",
      "314/314 [==============================] - 64s 204ms/step - loss: 0.0396 - val_loss: 0.4764 - lr: 5.7147e-04\n",
      "Epoch 53/70\n",
      "157/157 [==============================] - 3s 17ms/step\n",
      "\n",
      "Character Error Rate (CER) after epoch 53: 0.031169041450777202\n",
      "314/314 [==============================] - 64s 202ms/step - loss: 0.0203 - val_loss: 0.4117 - lr: 5.2723e-04\n",
      "Epoch 54/70\n",
      "157/157 [==============================] - 3s 20ms/step\n",
      "\n",
      "Character Error Rate (CER) after epoch 54: 0.030278497409326425\n",
      "314/314 [==============================] - 64s 204ms/step - loss: 0.0153 - val_loss: 0.4031 - lr: 4.8282e-04\n",
      "Epoch 55/70\n",
      "157/157 [==============================] - 3s 19ms/step\n",
      "\n",
      "Character Error Rate (CER) after epoch 55: 0.029549870466321244\n",
      "314/314 [==============================] - 64s 204ms/step - loss: 0.0093 - val_loss: 0.4036 - lr: 4.3858e-04\n",
      "Epoch 56/70\n",
      "157/157 [==============================] - 3s 17ms/step\n",
      "\n",
      "Character Error Rate (CER) after epoch 56: 0.029873704663212434\n",
      "314/314 [==============================] - 64s 202ms/step - loss: 0.0075 - val_loss: 0.3886 - lr: 3.9488e-04\n",
      "Epoch 57/70\n",
      "157/157 [==============================] - 3s 17ms/step\n",
      "\n",
      "Character Error Rate (CER) after epoch 57: 0.029064119170984455\n",
      "314/314 [==============================] - 64s 202ms/step - loss: 0.0073 - val_loss: 0.3870 - lr: 3.5206e-04\n",
      "Epoch 58/70\n",
      "157/157 [==============================] - 3s 20ms/step\n",
      "\n",
      "Character Error Rate (CER) after epoch 58: 0.029468911917098446\n",
      "314/314 [==============================] - 64s 203ms/step - loss: 0.0063 - val_loss: 0.3781 - lr: 3.1048e-04\n",
      "Epoch 59/70\n",
      "157/157 [==============================] - 3s 20ms/step\n",
      "\n",
      "Character Error Rate (CER) after epoch 59: 0.028983160621761657\n",
      "314/314 [==============================] - 64s 204ms/step - loss: 0.0049 - val_loss: 0.4028 - lr: 2.7046e-04\n",
      "Epoch 60/70\n",
      "157/157 [==============================] - 3s 20ms/step\n",
      "\n",
      "Character Error Rate (CER) after epoch 60: 0.027202072538860103\n",
      "314/314 [==============================] - 64s 204ms/step - loss: 0.0032 - val_loss: 0.3781 - lr: 2.3233e-04\n",
      "Epoch 61/70\n",
      "157/157 [==============================] - 3s 17ms/step\n",
      "\n",
      "Character Error Rate (CER) after epoch 61: 0.027849740932642485\n",
      "314/314 [==============================] - 64s 203ms/step - loss: 0.0024 - val_loss: 0.3909 - lr: 1.9640e-04\n",
      "Epoch 62/70\n",
      "157/157 [==============================] - 3s 21ms/step\n",
      "\n",
      "Character Error Rate (CER) after epoch 62: 0.027444948186528498\n",
      "314/314 [==============================] - 64s 204ms/step - loss: 0.0019 - val_loss: 0.3882 - lr: 1.6295e-04\n",
      "Epoch 63/70\n",
      "157/157 [==============================] - 3s 19ms/step\n",
      "\n",
      "Character Error Rate (CER) after epoch 63: 0.026716321243523317\n",
      "314/314 [==============================] - 64s 204ms/step - loss: 0.0026 - val_loss: 0.3855 - lr: 1.3225e-04\n",
      "Epoch 64/70\n",
      "157/157 [==============================] - 3s 18ms/step\n",
      "\n",
      "Character Error Rate (CER) after epoch 64: 0.026716321243523317\n",
      "314/314 [==============================] - 64s 203ms/step - loss: 0.0017 - val_loss: 0.3913 - lr: 1.0456e-04\n",
      "Epoch 65/70\n",
      "157/157 [==============================] - 3s 17ms/step\n",
      "\n",
      "Character Error Rate (CER) after epoch 65: 0.026392487046632124\n",
      "314/314 [==============================] - 64s 203ms/step - loss: 0.0013 - val_loss: 0.3932 - lr: 8.0087e-05\n",
      "Epoch 66/70\n",
      "157/157 [==============================] - 3s 17ms/step\n",
      "\n",
      "Character Error Rate (CER) after epoch 66: 0.025987694300518133\n",
      "314/314 [==============================] - 64s 202ms/step - loss: 0.0014 - val_loss: 0.3934 - lr: 5.9037e-05\n",
      "Epoch 67/70\n",
      "157/157 [==============================] - 3s 18ms/step\n",
      "\n",
      "Character Error Rate (CER) after epoch 67: 0.02614961139896373\n",
      "314/314 [==============================] - 64s 203ms/step - loss: 0.0013 - val_loss: 0.3912 - lr: 4.1578e-05\n",
      "Epoch 68/70\n",
      "157/157 [==============================] - 3s 17ms/step\n",
      "\n",
      "Character Error Rate (CER) after epoch 68: 0.026311528497409326\n",
      "314/314 [==============================] - 64s 204ms/step - loss: 0.0012 - val_loss: 0.3927 - lr: 2.7850e-05\n",
      "Epoch 69/70\n",
      "157/157 [==============================] - 3s 20ms/step\n",
      "\n",
      "Character Error Rate (CER) after epoch 69: 0.026230569948186528\n",
      "314/314 [==============================] - 64s 204ms/step - loss: 0.0010 - val_loss: 0.3935 - lr: 1.7963e-05\n",
      "Epoch 70/70\n",
      "157/157 [==============================] - 3s 18ms/step\n",
      "\n",
      "Character Error Rate (CER) after epoch 70: 0.025987694300518133\n",
      "314/314 [==============================] - 64s 203ms/step - loss: 0.0011 - val_loss: 0.3937 - lr: 1.1997e-05\n"
     ]
    }
   ],
   "source": [
    "# Train the model with curve\\\n",
    "history = model.fit([X_train, y_train], epochs=total_epochs, validation_data=([X_test, y_test],None),batch_size=128, callbacks=[lr_scheduler, cer])"
   ]
  },
  {
   "cell_type": "code",
   "execution_count": 34,
   "metadata": {},
   "outputs": [
    {
     "data": {
      "image/png": "[encoded data removed]",
      "text/plain": [
       "<Figure size 640x480 with 1 Axes>"
      ]
     },
     "metadata": {},
     "output_type": "display_data"
    }
   ],
   "source": [
    "# Plot the loss curve and CER curve\n",
    "# normlize to 100%\n",
    "cer_plot=[]\n",
    "for value in cer.cer_history:\n",
    "    value = value * 100\n",
    "    cer_plot.append(value)\n",
    "\n",
    "plt.plot(history.history['loss'], label='Training Loss')\n",
    "plt.plot(history.history['val_loss'], label='Validation Loss')\n",
    "plt.plot(cer_plot, label='Character Error Rate (CER)')\n",
    "plt.xlabel('Epochs')\n",
    "plt.ylabel('Loss / CER (%)')\n",
    "plt.title('Loss and CER Curve')\n",
    "plt.legend()\n",
    "plt.show()"
   ]
  },
  {
   "cell_type": "code",
   "execution_count": 35,
   "metadata": {},
   "outputs": [
    {
     "name": "stdout",
     "output_type": "stream",
     "text": [
      "WARNING:tensorflow:Compiled the loaded model, but the compiled metrics have yet to be built. `model.compile_metrics` will be empty until you train or evaluate the model.\n"
     ]
    }
   ],
   "source": [
    "model_without_CTC = tf.keras.Model(inputs=model.inputs, outputs=model.layers[-2].output)\n",
    "\n",
    "# Save the model\n",
    "model_without_CTC.save('Res50V2Alpha_without_CTC.h5')"
   ]
  },
  {
   "cell_type": "markdown",
   "metadata": {},
   "source": [
    "## Evaluation"
   ]
  },
  {
   "cell_type": "code",
   "execution_count": 36,
   "metadata": {},
   "outputs": [],
   "source": [
    "# Evaluate the model #Not needed for now\n",
    "# model.evaluate([X_test, y_test])"
   ]
  },
  {
   "cell_type": "code",
   "execution_count": 37,
   "metadata": {},
   "outputs": [
    {
     "name": "stdout",
     "output_type": "stream",
     "text": [
      "157/157 [==============================] - 3s 18ms/step\n"
     ]
    }
   ],
   "source": [
    "# predict \n",
    "y_pred = model.predict([X_val, np.zeros_like(y_val)]) # predict without labels"
   ]
  },
  {
   "cell_type": "code",
   "execution_count": 38,
   "metadata": {},
   "outputs": [
    {
     "data": {
      "text/plain": [
       "dtype('int64')"
      ]
     },
     "execution_count": 38,
     "metadata": {},
     "output_type": "execute_result"
    }
   ],
   "source": [
    "y_test.dtype"
   ]
  },
  {
   "cell_type": "code",
   "execution_count": 39,
   "metadata": {},
   "outputs": [
    {
     "data": {
      "text/plain": [
       "array([[15, 99, 99, ..., 99, 99, 99],\n",
       "       [27, 36, 99, ..., 99, 99, 99],\n",
       "       [10, 25, 30, ..., 99, 99, 99],\n",
       "       ...,\n",
       "       [ 7, 99, 99, ..., 99, 99, 99],\n",
       "       [17,  7, 99, ..., 99, 99, 99],\n",
       "       [25, 27, 36, ..., 99, 99, 99]], dtype=int64)"
      ]
     },
     "execution_count": 39,
     "metadata": {},
     "output_type": "execute_result"
    }
   ],
   "source": [
    "y_test"
   ]
  },
  {
   "cell_type": "code",
   "execution_count": 40,
   "metadata": {},
   "outputs": [
    {
     "data": {
      "text/plain": [
       "array([[0, 0, 0, ..., 0, 0, 0],\n",
       "       [0, 0, 0, ..., 0, 0, 0],\n",
       "       [0, 0, 0, ..., 0, 0, 0],\n",
       "       ...,\n",
       "       [0, 0, 0, ..., 0, 0, 0],\n",
       "       [0, 0, 0, ..., 0, 0, 0],\n",
       "       [0, 0, 0, ..., 0, 0, 0]], dtype=int64)"
      ]
     },
     "execution_count": 40,
     "metadata": {},
     "output_type": "execute_result"
    }
   ],
   "source": [
    "y_test_empty = np.zeros_like(y_test)\n",
    "y_test_empty"
   ]
  },
  {
   "cell_type": "code",
   "execution_count": 41,
   "metadata": {},
   "outputs": [
    {
     "data": {
      "text/plain": [
       "array([0, 0, 0, 0, 0, 0, 0], dtype=int64)"
      ]
     },
     "execution_count": 41,
     "metadata": {},
     "output_type": "execute_result"
    }
   ],
   "source": [
    "y_test_empty[0]"
   ]
  },
  {
   "cell_type": "code",
   "execution_count": 42,
   "metadata": {},
   "outputs": [
    {
     "data": {
      "text/plain": [
       "(5015, 7)"
      ]
     },
     "execution_count": 42,
     "metadata": {},
     "output_type": "execute_result"
    }
   ],
   "source": [
    "y_test.shape"
   ]
  },
  {
   "cell_type": "code",
   "execution_count": 43,
   "metadata": {},
   "outputs": [
    {
     "data": {
      "image/png": "[encoded data removed]",
      "text/plain": [
       "<Figure size 500x500 with 9 Axes>"
      ]
     },
     "metadata": {},
     "output_type": "display_data"
    }
   ],
   "source": [
    "# plot X_test 9 images\n",
    "# plot X_test 9 images\n",
    "plt.figure(figsize=(5,5))\n",
    "for i in range(9):\n",
    "    plt.subplot(5,5,i+1)\n",
    "    plt.imshow(X_test[-i], cmap='gray')\n",
    "    plt.axis('off')\n",
    "plt.show()"
   ]
  },
  {
   "cell_type": "markdown",
   "metadata": {},
   "source": [
    "### CER Error"
   ]
  },
  {
   "cell_type": "code",
   "execution_count": 44,
   "metadata": {},
   "outputs": [],
   "source": [
    "y_pred_text = decode_batch_predictions(y_pred)"
   ]
  },
  {
   "cell_type": "code",
   "execution_count": 45,
   "metadata": {},
   "outputs": [],
   "source": [
    "# devectorize the labels\n",
    "y_val_texts = [devectorize_label(label,vocab_num, padding_token) for label in y_val]"
   ]
  },
  {
   "cell_type": "code",
   "execution_count": 46,
   "metadata": {},
   "outputs": [],
   "source": [
    "# Get the current timestamp\n",
    "timestamp = datetime.datetime.now().strftime(\"%Y%m%d%H%M%S\")\n",
    "\n",
    "# Save y_pred_text as a whole txt file with timestamp\n",
    "with open(f'y_pred_text_{timestamp}.txt', 'w', encoding='utf-8') as f:\n",
    "    for item in y_pred_text:\n",
    "        f.write(\"%s\\n\" % item)\n",
    "\n",
    "# Save y_test_texts as a whole txt file with timestamp\n",
    "with open(f'y_val_texts_{timestamp}.txt', 'w', encoding='utf-8') as f:\n",
    "    for item in y_val_texts:\n",
    "        f.write(\"%s\\n\" % item)"
   ]
  },
  {
   "cell_type": "code",
   "execution_count": 47,
   "metadata": {},
   "outputs": [
    {
     "name": "stdout",
     "output_type": "stream",
     "text": [
      "376 / 12398 = 3.03%\n"
     ]
    }
   ],
   "source": [
    "def calculate_cer(y_true, y_pred):\n",
    "    total_distance = 0\n",
    "    total_true_char = 0\n",
    "    for true_seq, pred_seq in zip(y_true, y_pred):\n",
    "        true_seq = true_seq.rstrip('\\n')\n",
    "        pred_seq = pred_seq.rstrip('\\n')\n",
    "        total_distance += Levenshtein.distance(true_seq, pred_seq)\n",
    "        total_true_char += len(true_seq)\n",
    "    calc=[total_distance, total_true_char]\n",
    "    cer = (total_distance / total_true_char)\n",
    "    return cer, calc\n",
    "\n",
    "cer, calc = calculate_cer(y_val_texts, y_pred_text)\n",
    "print(calc[0],\"/\",calc[1],\"=\",\"{:.2f}%\".format(cer*100))"
   ]
  },
  {
   "cell_type": "code",
   "execution_count": null,
   "metadata": {},
   "outputs": [],
   "source": []
  }
 ],
 "metadata": {
  "kernelspec": {
   "display_name": "Python 3",
   "language": "python",
   "name": "python3"
  },
  "language_info": {
   "codemirror_mode": {
    "name": "ipython",
    "version": 3
   },
   "file_extension": ".py",
   "mimetype": "text/x-python",
   "name": "python",
   "nbconvert_exporter": "python",
   "pygments_lexer": "ipython3",
   "version": "3.10.6"
  },
  "orig_nbformat": 4
 },
 "nbformat": 4,
 "nbformat_minor": 2
}
