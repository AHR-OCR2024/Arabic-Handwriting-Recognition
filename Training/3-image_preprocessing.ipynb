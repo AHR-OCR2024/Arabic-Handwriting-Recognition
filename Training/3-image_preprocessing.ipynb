{
  "cells": [
    {
      "cell_type": "code",
      "execution_count": 1,
      "metadata": {
        "colab": {
          "base_uri": "https://localhost:8080/"
        },
        "id": "jocFmNxYaYXD",
        "outputId": "2be16d4b-2ecc-49b4-901e-bafa16b73a09"
      },
      "outputs": [],
      "source": [
        "# required for the skeletonizing algorithm\n",
        "# !pip install opencv-contrib-python"
      ]
    },
    {
      "cell_type": "code",
      "execution_count": 2,
      "metadata": {
        "id": "UCMFCV3MTCol"
      },
      "outputs": [],
      "source": [
        "#important import libraries\n",
        "import matplotlib.pyplot as plt\n",
        "import tensorflow as tf\n",
        "import numpy as np\n",
        "import os\n",
        "import cv2 as cv\n",
        "# from google.colab.patches import cv2_imshow\n",
        "from IPython.display import clear_output\n",
        "# from google.colab import files\n"
      ]
    },
    {
      "cell_type": "code",
      "execution_count": 3,
      "metadata": {
        "id": "8STntrfycT19"
      },
      "outputs": [],
      "source": [
        "#list the filenames in the folder containing your dataset\n",
        "filenames=os.listdir('Total Images')\n",
        "#strip the file extension from the file names\n",
        "filenames_split=[filename.replace('.tif', '') for filename in filenames]"
      ]
    },
    {
      "cell_type": "code",
      "execution_count": 4,
      "metadata": {
        "id": "lCCtmdhMREEr"
      },
      "outputs": [],
      "source": [
        "def directionalHistogram(img, direction='H'):\n",
        "  #function to compute the intensity histograms of an image in x and y directions\n",
        "    (w,h) = img.shape\n",
        "    sum = []\n",
        "    pixel_count=0\n",
        "    if(direction=='H'):\n",
        "        for j in range(w-1):\n",
        "          for i in range(h-1):\n",
        "            pixel=img[j,i]\n",
        "            if(pixel==255):\n",
        "              pixel_count+=1\n",
        "          sum.append(pixel_count)\n",
        "          pixel_count=0\n",
        "    else:\n",
        "       for j in range(h-1):\n",
        "          for i in range(w-1):\n",
        "            pixel=img[i,j]\n",
        "            if(pixel==255):\n",
        "              pixel_count+=1\n",
        "          sum.append(pixel_count)\n",
        "          pixel_count=0\n",
        "    return sum\n",
        "\n",
        "def crop_image(image, direction='H'):\n",
        "  #function to crop the image in vertical and horizontal directions\n",
        "  w,h=image.shape\n",
        "  if(w<10 or h<10):\n",
        "    return image\n",
        "\n",
        "  hist=directionalHistogram(image, direction )\n",
        "  flipped_hist=np.flip(hist)\n",
        "  startpos=0\n",
        "  endpos=0\n",
        "  for i in range(1, len(hist)-1):\n",
        "    if(hist[i-1]==0 and hist[i]==0 and hist[i+1]!=0):\n",
        "      startpos=i\n",
        "      break\n",
        "  for i in range(1, len(flipped_hist)-1):\n",
        "    if(hist[i-1]==0 and hist[i]==0 and hist[i+1]!=0):\n",
        "      endpos=len(flipped_hist)-1-i\n",
        "      break\n",
        "\n",
        "  diff=np.abs(startpos-endpos)\n",
        "  if(direction=='H' and diff>=10 and startpos<endpos):\n",
        "    if(startpos<endpos):\n",
        "      return image[startpos:endpos,:]\n",
        "    else:\n",
        "      return image[endpos:startpos,:]\n",
        "  elif(direction=='V' and diff>=10 and startpos<endpos):\n",
        "    if(startpos<endpos):\n",
        "      return image[:,startpos:endpos]\n",
        "    else:\n",
        "      return image[:,endpos:startpos]\n",
        "  else:\n",
        "    return image\n",
        "\n",
        "image_width = 64\n",
        "image_height = 32\n",
        "def distortion_free_resize(image, img_size=(image_height, image_width)):\n",
        "  #resizing the images without distortion using tensorflow\n",
        "    h,w= img_size\n",
        "    image = tf.image.resize(image, size=(h, w), preserve_aspect_ratio=True)\n",
        "\n",
        "    # Check tha amount of padding needed to be done.\n",
        "    pad_height = h - tf.shape(image)[0]\n",
        "    pad_width = w - tf.shape(image)[1]\n",
        "\n",
        "    # Only necessary if you want to do same amount of padding on both sides.\n",
        "    if pad_height % 2 != 0:\n",
        "        height = pad_height // 2\n",
        "        pad_height_top = height + 1\n",
        "        pad_height_bottom = height\n",
        "    else:\n",
        "        pad_height_top = pad_height_bottom = pad_height // 2\n",
        "\n",
        "    if pad_width % 2 != 0:\n",
        "        width = pad_width // 2\n",
        "        pad_width_left = width + 1\n",
        "        pad_width_right = width\n",
        "    else:\n",
        "        pad_width_left = pad_width_right = pad_width // 2\n",
        "\n",
        "    image = tf.pad(\n",
        "        image,\n",
        "        paddings=[\n",
        "            [pad_height_top, pad_height_bottom],\n",
        "            [pad_width_left, pad_width_right],\n",
        "            [0, 0],\n",
        "        ],\n",
        "    )\n",
        "\n",
        "    image = tf.transpose(image, perm=[1, 0, 2])\n",
        "    image = tf.image.flip_left_right(image)\n",
        "    return image"
      ]
    },
    {
      "cell_type": "code",
      "execution_count": 5,
      "metadata": {
        "colab": {
          "base_uri": "https://localhost:8080/",
          "height": 1000
        },
        "id": "47N5rQs2TyYp",
        "outputId": "677f71d2-ccd6-45c5-e64f-41290e150f9b"
      },
      "outputs": [],
      "source": [
        "!mkdir processed_images\n",
        "for m in range(len(filenames)):\n",
        "  # read the image in grey scale\n",
        "  image = cv.imread('Total Images/'+filenames[m],0)\n",
        "  # skeletonize the image\n",
        "  #image=cv.ximgproc.thinning(image)\n",
        "  #crop the image horizontally\n",
        "  image_v_cropped=crop_image(image, 'V')\n",
        "  #convert image to RGB\n",
        "  image_v_cropped=cv.cvtColor(image_v_cropped,cv.COLOR_GRAY2RGB)\n",
        "  #distortionless resize with tensorflow\n",
        "  image=distortion_free_resize(image_v_cropped)\n",
        "  #convert image back to np array as grey scale and save it as jpg\n",
        "  image=cv.cvtColor(image.numpy(),cv.COLOR_RGB2GRAY)\n",
        "  image=np.rot90(image)\n",
        "  cv.imwrite(\"processed_images/\"+filenames_split[m]+\".jpg\", image)\n",
        "\n",
        "# !zip -r /content/processed_images.zip /content/processed_images\n",
        "# files.download(\"/content/processed_images.zip\")\n",
        "\n",
        "\n",
        "\n",
        "\n",
        "\n",
        "\n",
        "\n",
        "\n",
        "\n",
        "\n",
        "\n"
      ]
    }
  ],
  "metadata": {
    "colab": {
      "name": "image_preprocessing.ipynb",
      "provenance": []
    },
    "kernelspec": {
      "display_name": "Python 3",
      "name": "python3"
    },
    "language_info": {
      "codemirror_mode": {
        "name": "ipython",
        "version": 3
      },
      "file_extension": ".py",
      "mimetype": "text/x-python",
      "name": "python",
      "nbconvert_exporter": "python",
      "pygments_lexer": "ipython3",
      "version": "3.10.6"
    }
  },
  "nbformat": 4,
  "nbformat_minor": 0
}
